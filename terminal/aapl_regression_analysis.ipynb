{
 "cells": [
  {
   "cell_type": "code",
   "execution_count": 1,
   "metadata": {},
   "outputs": [],
   "source": [
    "import numpy as np\n",
    "import pandas as pd\n",
    "from data_processing.csv_reader import CSVReader\n",
    "import matplotlib.pyplot as plt\n",
    "from sklearn.preprocessing import StandardScaler, MinMaxScaler, PowerTransformer\n",
    "from time_series_processing.differencing import Differencer\n",
    "from data_processing.feature_generation import FeatureGenerator\n",
    "from environments.stock_env import StockEnvironment\n",
    "import os\n",
    "import sys\n",
    "\n",
    "sys.path.append(\"C:/Users/YuweiZhu/OneDrive - Alloyed/Documents/Market-Prediction-Research/terminal\")\n",
    "sys.path.append(\"C:/Users/YuweiZhu/OneDrive - Alloyed/Documents/Market-Prediction-Research\")\n",
    "\n",
    "from environments.reinforcement_learning_env import ReinforcementLearningEnvironment"
   ]
  },
  {
   "cell_type": "code",
   "execution_count": 2,
   "metadata": {},
   "outputs": [],
   "source": [
    "%reload_ext autoreload\n",
    "%autoreload 2"
   ]
  },
  {
   "cell_type": "code",
   "execution_count": 3,
   "metadata": {},
   "outputs": [
    {
     "name": "stdout",
     "output_type": "stream",
     "text": [
      "         Date      Open      High       Low     Close  Adj Close     Volume\n",
      "0  1980-12-12  0.128348  0.128906  0.128348  0.128348   0.099449  469033600\n",
      "1  1980-12-15  0.122210  0.122210  0.121652  0.121652   0.094261  175884800\n",
      "2  1980-12-16  0.113281  0.113281  0.112723  0.112723   0.087343  105728000\n",
      "3  1980-12-17  0.115513  0.116071  0.115513  0.115513   0.089504   86441600\n",
      "4  1980-12-18  0.118862  0.119420  0.118862  0.118862   0.092099   73449600\n"
     ]
    }
   ],
   "source": [
    "path = \"../raw_data/AAPL.csv\"\n",
    "csvr = CSVReader(path=path)\n",
    "\n",
    "\n",
    "csvr.get_properties()\n",
    "df = csvr.get_df()"
   ]
  },
  {
   "cell_type": "code",
   "execution_count": 3,
   "metadata": {},
   "outputs": [],
   "source": [
    "from charting_tools.visualize_candlesticks import plot_all"
   ]
  },
  {
   "cell_type": "code",
   "execution_count": 20,
   "metadata": {},
   "outputs": [],
   "source": [
    "fg = FeatureGenerator(df, task=\"classification\")\n",
    "\n",
    "#fg.apply_bollinger_bands(period=20, target=\"Close\")\n",
    "#fg.apply_moving_cumulation(periods=[7, 30, 100, 365], target=\"Profit\")\n",
    "#fg.apply_IG_top_ten_indicators()\n",
    "\n",
    "#plot_all(fg.df, fg.training_features)\n",
    "#X_train, X_test, y_train, y_test = fg.create_modelling_data(features=[\"Close\", \"Volume\"], target=\"Profit\")"
   ]
  },
  {
   "cell_type": "code",
   "execution_count": 21,
   "metadata": {},
   "outputs": [],
   "source": [
    "X_train, X_test, y_train, y_test = fg.create_modelling_data(features=[\"Adj Close\", \"Volume\"], target=\"Profit\")"
   ]
  },
  {
   "cell_type": "code",
   "execution_count": 22,
   "metadata": {},
   "outputs": [
    {
     "data": {
      "text/plain": [
       "['20 day moving average', '20 day lower bband', '20 day upper bband']"
      ]
     },
     "execution_count": 22,
     "metadata": {},
     "output_type": "execute_result"
    }
   ],
   "source": [
    "fg.training_features"
   ]
  },
  {
   "cell_type": "code",
   "execution_count": 27,
   "metadata": {},
   "outputs": [
    {
     "ename": "KeyboardInterrupt",
     "evalue": "",
     "output_type": "error",
     "traceback": [
      "\u001b[1;31m---------------------------------------------------------------------------\u001b[0m",
      "\u001b[1;31mKeyboardInterrupt\u001b[0m                         Traceback (most recent call last)",
      "\u001b[1;32mc:\\Users\\YuweiZhu\\OneDrive - Alloyed\\Documents\\Market-Prediction-Research\\terminal\\aapl_regression_analysis.ipynb Cell 8\u001b[0m line \u001b[0;36m5\n\u001b[0;32m      <a href='vscode-notebook-cell:/c%3A/Users/YuweiZhu/OneDrive%20-%20Alloyed/Documents/Market-Prediction-Research/terminal/aapl_regression_analysis.ipynb#X14sZmlsZQ%3D%3D?line=1'>2</a>\u001b[0m \u001b[39mfrom\u001b[39;00m \u001b[39msklearn\u001b[39;00m\u001b[39m.\u001b[39;00m\u001b[39mgaussian_process\u001b[39;00m\u001b[39m.\u001b[39;00m\u001b[39mkernels\u001b[39;00m \u001b[39mimport\u001b[39;00m RBF, ConstantKernel, WhiteKernel, DotProduct\n\u001b[0;32m      <a href='vscode-notebook-cell:/c%3A/Users/YuweiZhu/OneDrive%20-%20Alloyed/Documents/Market-Prediction-Research/terminal/aapl_regression_analysis.ipynb#X14sZmlsZQ%3D%3D?line=3'>4</a>\u001b[0m gpc \u001b[39m=\u001b[39m GaussianProcessClassifier(\u001b[39m*\u001b[39m\u001b[39m*\u001b[39m{\u001b[39m'\u001b[39m\u001b[39mkernel\u001b[39m\u001b[39m'\u001b[39m: \u001b[39m1\u001b[39m\u001b[39m*\u001b[39m\u001b[39m*\u001b[39m\u001b[39m2\u001b[39m \u001b[39m+\u001b[39m RBF(length_scale\u001b[39m=\u001b[39m\u001b[39m5\u001b[39m) \u001b[39m+\u001b[39m WhiteKernel(noise_level\u001b[39m=\u001b[39m\u001b[39m1\u001b[39m), \u001b[39m'\u001b[39m\u001b[39mn_restarts_optimizer\u001b[39m\u001b[39m'\u001b[39m: \u001b[39m10\u001b[39m, \u001b[39m'\u001b[39m\u001b[39mrandom_state\u001b[39m\u001b[39m'\u001b[39m: \u001b[39m123\u001b[39m})\n\u001b[1;32m----> <a href='vscode-notebook-cell:/c%3A/Users/YuweiZhu/OneDrive%20-%20Alloyed/Documents/Market-Prediction-Research/terminal/aapl_regression_analysis.ipynb#X14sZmlsZQ%3D%3D?line=4'>5</a>\u001b[0m gpc\u001b[39m.\u001b[39mfit(X_train, y_train)\n\u001b[0;32m      <a href='vscode-notebook-cell:/c%3A/Users/YuweiZhu/OneDrive%20-%20Alloyed/Documents/Market-Prediction-Research/terminal/aapl_regression_analysis.ipynb#X14sZmlsZQ%3D%3D?line=5'>6</a>\u001b[0m gpc\u001b[39m.\u001b[39mscore(X_test, y_test)\n",
      "File \u001b[1;32mc:\\Users\\YuweiZhu\\anaconda3\\envs\\terminal\\Lib\\site-packages\\sklearn\\base.py:1152\u001b[0m, in \u001b[0;36m_fit_context.<locals>.decorator.<locals>.wrapper\u001b[1;34m(estimator, *args, **kwargs)\u001b[0m\n\u001b[0;32m   1145\u001b[0m     estimator\u001b[39m.\u001b[39m_validate_params()\n\u001b[0;32m   1147\u001b[0m \u001b[39mwith\u001b[39;00m config_context(\n\u001b[0;32m   1148\u001b[0m     skip_parameter_validation\u001b[39m=\u001b[39m(\n\u001b[0;32m   1149\u001b[0m         prefer_skip_nested_validation \u001b[39mor\u001b[39;00m global_skip_validation\n\u001b[0;32m   1150\u001b[0m     )\n\u001b[0;32m   1151\u001b[0m ):\n\u001b[1;32m-> 1152\u001b[0m     \u001b[39mreturn\u001b[39;00m fit_method(estimator, \u001b[39m*\u001b[39margs, \u001b[39m*\u001b[39m\u001b[39m*\u001b[39mkwargs)\n",
      "File \u001b[1;32mc:\\Users\\YuweiZhu\\anaconda3\\envs\\terminal\\Lib\\site-packages\\sklearn\\gaussian_process\\_gpc.py:741\u001b[0m, in \u001b[0;36mGaussianProcessClassifier.fit\u001b[1;34m(self, X, y)\u001b[0m\n\u001b[0;32m    738\u001b[0m     \u001b[39melse\u001b[39;00m:\n\u001b[0;32m    739\u001b[0m         \u001b[39mraise\u001b[39;00m \u001b[39mValueError\u001b[39;00m(\u001b[39m\"\u001b[39m\u001b[39mUnknown multi-class mode \u001b[39m\u001b[39m%s\u001b[39;00m\u001b[39m\"\u001b[39m \u001b[39m%\u001b[39m \u001b[39mself\u001b[39m\u001b[39m.\u001b[39mmulti_class)\n\u001b[1;32m--> 741\u001b[0m \u001b[39mself\u001b[39m\u001b[39m.\u001b[39mbase_estimator_\u001b[39m.\u001b[39mfit(X, y)\n\u001b[0;32m    743\u001b[0m \u001b[39mif\u001b[39;00m \u001b[39mself\u001b[39m\u001b[39m.\u001b[39mn_classes_ \u001b[39m>\u001b[39m \u001b[39m2\u001b[39m:\n\u001b[0;32m    744\u001b[0m     \u001b[39mself\u001b[39m\u001b[39m.\u001b[39mlog_marginal_likelihood_value_ \u001b[39m=\u001b[39m np\u001b[39m.\u001b[39mmean(\n\u001b[0;32m    745\u001b[0m         [\n\u001b[0;32m    746\u001b[0m             estimator\u001b[39m.\u001b[39mlog_marginal_likelihood()\n\u001b[0;32m    747\u001b[0m             \u001b[39mfor\u001b[39;00m estimator \u001b[39min\u001b[39;00m \u001b[39mself\u001b[39m\u001b[39m.\u001b[39mbase_estimator_\u001b[39m.\u001b[39mestimators_\n\u001b[0;32m    748\u001b[0m         ]\n\u001b[0;32m    749\u001b[0m     )\n",
      "File \u001b[1;32mc:\\Users\\YuweiZhu\\anaconda3\\envs\\terminal\\Lib\\site-packages\\sklearn\\gaussian_process\\_gpc.py:229\u001b[0m, in \u001b[0;36m_BinaryGaussianProcessClassifierLaplace.fit\u001b[1;34m(self, X, y)\u001b[0m\n\u001b[0;32m    225\u001b[0m         \u001b[39mreturn\u001b[39;00m \u001b[39m-\u001b[39m\u001b[39mself\u001b[39m\u001b[39m.\u001b[39mlog_marginal_likelihood(theta, clone_kernel\u001b[39m=\u001b[39m\u001b[39mFalse\u001b[39;00m)\n\u001b[0;32m    227\u001b[0m \u001b[39m# First optimize starting from theta specified in kernel\u001b[39;00m\n\u001b[0;32m    228\u001b[0m optima \u001b[39m=\u001b[39m [\n\u001b[1;32m--> 229\u001b[0m     \u001b[39mself\u001b[39m\u001b[39m.\u001b[39m_constrained_optimization(\n\u001b[0;32m    230\u001b[0m         obj_func, \u001b[39mself\u001b[39m\u001b[39m.\u001b[39mkernel_\u001b[39m.\u001b[39mtheta, \u001b[39mself\u001b[39m\u001b[39m.\u001b[39mkernel_\u001b[39m.\u001b[39mbounds\n\u001b[0;32m    231\u001b[0m     )\n\u001b[0;32m    232\u001b[0m ]\n\u001b[0;32m    234\u001b[0m \u001b[39m# Additional runs are performed from log-uniform chosen initial\u001b[39;00m\n\u001b[0;32m    235\u001b[0m \u001b[39m# theta\u001b[39;00m\n\u001b[0;32m    236\u001b[0m \u001b[39mif\u001b[39;00m \u001b[39mself\u001b[39m\u001b[39m.\u001b[39mn_restarts_optimizer \u001b[39m>\u001b[39m \u001b[39m0\u001b[39m:\n",
      "File \u001b[1;32mc:\\Users\\YuweiZhu\\anaconda3\\envs\\terminal\\Lib\\site-packages\\sklearn\\gaussian_process\\_gpc.py:474\u001b[0m, in \u001b[0;36m_BinaryGaussianProcessClassifierLaplace._constrained_optimization\u001b[1;34m(self, obj_func, initial_theta, bounds)\u001b[0m\n\u001b[0;32m    472\u001b[0m \u001b[39mdef\u001b[39;00m \u001b[39m_constrained_optimization\u001b[39m(\u001b[39mself\u001b[39m, obj_func, initial_theta, bounds):\n\u001b[0;32m    473\u001b[0m     \u001b[39mif\u001b[39;00m \u001b[39mself\u001b[39m\u001b[39m.\u001b[39moptimizer \u001b[39m==\u001b[39m \u001b[39m\"\u001b[39m\u001b[39mfmin_l_bfgs_b\u001b[39m\u001b[39m\"\u001b[39m:\n\u001b[1;32m--> 474\u001b[0m         opt_res \u001b[39m=\u001b[39m scipy\u001b[39m.\u001b[39moptimize\u001b[39m.\u001b[39mminimize(\n\u001b[0;32m    475\u001b[0m             obj_func, initial_theta, method\u001b[39m=\u001b[39m\u001b[39m\"\u001b[39m\u001b[39mL-BFGS-B\u001b[39m\u001b[39m\"\u001b[39m, jac\u001b[39m=\u001b[39m\u001b[39mTrue\u001b[39;00m, bounds\u001b[39m=\u001b[39mbounds\n\u001b[0;32m    476\u001b[0m         )\n\u001b[0;32m    477\u001b[0m         _check_optimize_result(\u001b[39m\"\u001b[39m\u001b[39mlbfgs\u001b[39m\u001b[39m\"\u001b[39m, opt_res)\n\u001b[0;32m    478\u001b[0m         theta_opt, func_min \u001b[39m=\u001b[39m opt_res\u001b[39m.\u001b[39mx, opt_res\u001b[39m.\u001b[39mfun\n",
      "File \u001b[1;32mc:\\Users\\YuweiZhu\\anaconda3\\envs\\terminal\\Lib\\site-packages\\scipy\\optimize\\_minimize.py:710\u001b[0m, in \u001b[0;36mminimize\u001b[1;34m(fun, x0, args, method, jac, hess, hessp, bounds, constraints, tol, callback, options)\u001b[0m\n\u001b[0;32m    707\u001b[0m     res \u001b[39m=\u001b[39m _minimize_newtoncg(fun, x0, args, jac, hess, hessp, callback,\n\u001b[0;32m    708\u001b[0m                              \u001b[39m*\u001b[39m\u001b[39m*\u001b[39moptions)\n\u001b[0;32m    709\u001b[0m \u001b[39melif\u001b[39;00m meth \u001b[39m==\u001b[39m \u001b[39m'\u001b[39m\u001b[39ml-bfgs-b\u001b[39m\u001b[39m'\u001b[39m:\n\u001b[1;32m--> 710\u001b[0m     res \u001b[39m=\u001b[39m _minimize_lbfgsb(fun, x0, args, jac, bounds,\n\u001b[0;32m    711\u001b[0m                            callback\u001b[39m=\u001b[39mcallback, \u001b[39m*\u001b[39m\u001b[39m*\u001b[39moptions)\n\u001b[0;32m    712\u001b[0m \u001b[39melif\u001b[39;00m meth \u001b[39m==\u001b[39m \u001b[39m'\u001b[39m\u001b[39mtnc\u001b[39m\u001b[39m'\u001b[39m:\n\u001b[0;32m    713\u001b[0m     res \u001b[39m=\u001b[39m _minimize_tnc(fun, x0, args, jac, bounds, callback\u001b[39m=\u001b[39mcallback,\n\u001b[0;32m    714\u001b[0m                         \u001b[39m*\u001b[39m\u001b[39m*\u001b[39moptions)\n",
      "File \u001b[1;32mc:\\Users\\YuweiZhu\\anaconda3\\envs\\terminal\\Lib\\site-packages\\scipy\\optimize\\_lbfgsb_py.py:365\u001b[0m, in \u001b[0;36m_minimize_lbfgsb\u001b[1;34m(fun, x0, args, jac, bounds, disp, maxcor, ftol, gtol, eps, maxfun, maxiter, iprint, callback, maxls, finite_diff_rel_step, **unknown_options)\u001b[0m\n\u001b[0;32m    359\u001b[0m task_str \u001b[39m=\u001b[39m task\u001b[39m.\u001b[39mtobytes()\n\u001b[0;32m    360\u001b[0m \u001b[39mif\u001b[39;00m task_str\u001b[39m.\u001b[39mstartswith(\u001b[39mb\u001b[39m\u001b[39m'\u001b[39m\u001b[39mFG\u001b[39m\u001b[39m'\u001b[39m):\n\u001b[0;32m    361\u001b[0m     \u001b[39m# The minimization routine wants f and g at the current x.\u001b[39;00m\n\u001b[0;32m    362\u001b[0m     \u001b[39m# Note that interruptions due to maxfun are postponed\u001b[39;00m\n\u001b[0;32m    363\u001b[0m     \u001b[39m# until the completion of the current minimization iteration.\u001b[39;00m\n\u001b[0;32m    364\u001b[0m     \u001b[39m# Overwrite f and g:\u001b[39;00m\n\u001b[1;32m--> 365\u001b[0m     f, g \u001b[39m=\u001b[39m func_and_grad(x)\n\u001b[0;32m    366\u001b[0m \u001b[39melif\u001b[39;00m task_str\u001b[39m.\u001b[39mstartswith(\u001b[39mb\u001b[39m\u001b[39m'\u001b[39m\u001b[39mNEW_X\u001b[39m\u001b[39m'\u001b[39m):\n\u001b[0;32m    367\u001b[0m     \u001b[39m# new iteration\u001b[39;00m\n\u001b[0;32m    368\u001b[0m     n_iterations \u001b[39m+\u001b[39m\u001b[39m=\u001b[39m \u001b[39m1\u001b[39m\n",
      "File \u001b[1;32mc:\\Users\\YuweiZhu\\anaconda3\\envs\\terminal\\Lib\\site-packages\\scipy\\optimize\\_differentiable_functions.py:285\u001b[0m, in \u001b[0;36mScalarFunction.fun_and_grad\u001b[1;34m(self, x)\u001b[0m\n\u001b[0;32m    283\u001b[0m \u001b[39mif\u001b[39;00m \u001b[39mnot\u001b[39;00m np\u001b[39m.\u001b[39marray_equal(x, \u001b[39mself\u001b[39m\u001b[39m.\u001b[39mx):\n\u001b[0;32m    284\u001b[0m     \u001b[39mself\u001b[39m\u001b[39m.\u001b[39m_update_x_impl(x)\n\u001b[1;32m--> 285\u001b[0m \u001b[39mself\u001b[39m\u001b[39m.\u001b[39m_update_fun()\n\u001b[0;32m    286\u001b[0m \u001b[39mself\u001b[39m\u001b[39m.\u001b[39m_update_grad()\n\u001b[0;32m    287\u001b[0m \u001b[39mreturn\u001b[39;00m \u001b[39mself\u001b[39m\u001b[39m.\u001b[39mf, \u001b[39mself\u001b[39m\u001b[39m.\u001b[39mg\n",
      "File \u001b[1;32mc:\\Users\\YuweiZhu\\anaconda3\\envs\\terminal\\Lib\\site-packages\\scipy\\optimize\\_differentiable_functions.py:251\u001b[0m, in \u001b[0;36mScalarFunction._update_fun\u001b[1;34m(self)\u001b[0m\n\u001b[0;32m    249\u001b[0m \u001b[39mdef\u001b[39;00m \u001b[39m_update_fun\u001b[39m(\u001b[39mself\u001b[39m):\n\u001b[0;32m    250\u001b[0m     \u001b[39mif\u001b[39;00m \u001b[39mnot\u001b[39;00m \u001b[39mself\u001b[39m\u001b[39m.\u001b[39mf_updated:\n\u001b[1;32m--> 251\u001b[0m         \u001b[39mself\u001b[39m\u001b[39m.\u001b[39m_update_fun_impl()\n\u001b[0;32m    252\u001b[0m         \u001b[39mself\u001b[39m\u001b[39m.\u001b[39mf_updated \u001b[39m=\u001b[39m \u001b[39mTrue\u001b[39;00m\n",
      "File \u001b[1;32mc:\\Users\\YuweiZhu\\anaconda3\\envs\\terminal\\Lib\\site-packages\\scipy\\optimize\\_differentiable_functions.py:155\u001b[0m, in \u001b[0;36mScalarFunction.__init__.<locals>.update_fun\u001b[1;34m()\u001b[0m\n\u001b[0;32m    154\u001b[0m \u001b[39mdef\u001b[39;00m \u001b[39mupdate_fun\u001b[39m():\n\u001b[1;32m--> 155\u001b[0m     \u001b[39mself\u001b[39m\u001b[39m.\u001b[39mf \u001b[39m=\u001b[39m fun_wrapped(\u001b[39mself\u001b[39m\u001b[39m.\u001b[39mx)\n",
      "File \u001b[1;32mc:\\Users\\YuweiZhu\\anaconda3\\envs\\terminal\\Lib\\site-packages\\scipy\\optimize\\_differentiable_functions.py:137\u001b[0m, in \u001b[0;36mScalarFunction.__init__.<locals>.fun_wrapped\u001b[1;34m(x)\u001b[0m\n\u001b[0;32m    133\u001b[0m \u001b[39mself\u001b[39m\u001b[39m.\u001b[39mnfev \u001b[39m+\u001b[39m\u001b[39m=\u001b[39m \u001b[39m1\u001b[39m\n\u001b[0;32m    134\u001b[0m \u001b[39m# Send a copy because the user may overwrite it.\u001b[39;00m\n\u001b[0;32m    135\u001b[0m \u001b[39m# Overwriting results in undefined behaviour because\u001b[39;00m\n\u001b[0;32m    136\u001b[0m \u001b[39m# fun(self.x) will change self.x, with the two no longer linked.\u001b[39;00m\n\u001b[1;32m--> 137\u001b[0m fx \u001b[39m=\u001b[39m fun(np\u001b[39m.\u001b[39mcopy(x), \u001b[39m*\u001b[39margs)\n\u001b[0;32m    138\u001b[0m \u001b[39m# Make sure the function returns a true scalar\u001b[39;00m\n\u001b[0;32m    139\u001b[0m \u001b[39mif\u001b[39;00m \u001b[39mnot\u001b[39;00m np\u001b[39m.\u001b[39misscalar(fx):\n",
      "File \u001b[1;32mc:\\Users\\YuweiZhu\\anaconda3\\envs\\terminal\\Lib\\site-packages\\scipy\\optimize\\_optimize.py:77\u001b[0m, in \u001b[0;36mMemoizeJac.__call__\u001b[1;34m(self, x, *args)\u001b[0m\n\u001b[0;32m     75\u001b[0m \u001b[39mdef\u001b[39;00m \u001b[39m__call__\u001b[39m(\u001b[39mself\u001b[39m, x, \u001b[39m*\u001b[39margs):\n\u001b[0;32m     76\u001b[0m \u001b[39m    \u001b[39m\u001b[39m\"\"\" returns the function value \"\"\"\u001b[39;00m\n\u001b[1;32m---> 77\u001b[0m     \u001b[39mself\u001b[39m\u001b[39m.\u001b[39m_compute_if_needed(x, \u001b[39m*\u001b[39margs)\n\u001b[0;32m     78\u001b[0m     \u001b[39mreturn\u001b[39;00m \u001b[39mself\u001b[39m\u001b[39m.\u001b[39m_value\n",
      "File \u001b[1;32mc:\\Users\\YuweiZhu\\anaconda3\\envs\\terminal\\Lib\\site-packages\\scipy\\optimize\\_optimize.py:71\u001b[0m, in \u001b[0;36mMemoizeJac._compute_if_needed\u001b[1;34m(self, x, *args)\u001b[0m\n\u001b[0;32m     69\u001b[0m \u001b[39mif\u001b[39;00m \u001b[39mnot\u001b[39;00m np\u001b[39m.\u001b[39mall(x \u001b[39m==\u001b[39m \u001b[39mself\u001b[39m\u001b[39m.\u001b[39mx) \u001b[39mor\u001b[39;00m \u001b[39mself\u001b[39m\u001b[39m.\u001b[39m_value \u001b[39mis\u001b[39;00m \u001b[39mNone\u001b[39;00m \u001b[39mor\u001b[39;00m \u001b[39mself\u001b[39m\u001b[39m.\u001b[39mjac \u001b[39mis\u001b[39;00m \u001b[39mNone\u001b[39;00m:\n\u001b[0;32m     70\u001b[0m     \u001b[39mself\u001b[39m\u001b[39m.\u001b[39mx \u001b[39m=\u001b[39m np\u001b[39m.\u001b[39masarray(x)\u001b[39m.\u001b[39mcopy()\n\u001b[1;32m---> 71\u001b[0m     fg \u001b[39m=\u001b[39m \u001b[39mself\u001b[39m\u001b[39m.\u001b[39mfun(x, \u001b[39m*\u001b[39margs)\n\u001b[0;32m     72\u001b[0m     \u001b[39mself\u001b[39m\u001b[39m.\u001b[39mjac \u001b[39m=\u001b[39m fg[\u001b[39m1\u001b[39m]\n\u001b[0;32m     73\u001b[0m     \u001b[39mself\u001b[39m\u001b[39m.\u001b[39m_value \u001b[39m=\u001b[39m fg[\u001b[39m0\u001b[39m]\n",
      "File \u001b[1;32mc:\\Users\\YuweiZhu\\anaconda3\\envs\\terminal\\Lib\\site-packages\\sklearn\\gaussian_process\\_gpc.py:220\u001b[0m, in \u001b[0;36m_BinaryGaussianProcessClassifierLaplace.fit.<locals>.obj_func\u001b[1;34m(theta, eval_gradient)\u001b[0m\n\u001b[0;32m    218\u001b[0m \u001b[39mdef\u001b[39;00m \u001b[39mobj_func\u001b[39m(theta, eval_gradient\u001b[39m=\u001b[39m\u001b[39mTrue\u001b[39;00m):\n\u001b[0;32m    219\u001b[0m     \u001b[39mif\u001b[39;00m eval_gradient:\n\u001b[1;32m--> 220\u001b[0m         lml, grad \u001b[39m=\u001b[39m \u001b[39mself\u001b[39m\u001b[39m.\u001b[39mlog_marginal_likelihood(\n\u001b[0;32m    221\u001b[0m             theta, eval_gradient\u001b[39m=\u001b[39m\u001b[39mTrue\u001b[39;00m, clone_kernel\u001b[39m=\u001b[39m\u001b[39mFalse\u001b[39;00m\n\u001b[0;32m    222\u001b[0m         )\n\u001b[0;32m    223\u001b[0m         \u001b[39mreturn\u001b[39;00m \u001b[39m-\u001b[39mlml, \u001b[39m-\u001b[39mgrad\n\u001b[0;32m    224\u001b[0m     \u001b[39melse\u001b[39;00m:\n",
      "File \u001b[1;32mc:\\Users\\YuweiZhu\\anaconda3\\envs\\terminal\\Lib\\site-packages\\sklearn\\gaussian_process\\_gpc.py:394\u001b[0m, in \u001b[0;36m_BinaryGaussianProcessClassifierLaplace.log_marginal_likelihood\u001b[1;34m(self, theta, eval_gradient, clone_kernel)\u001b[0m\n\u001b[0;32m    392\u001b[0m \u001b[39m# XXX: Get rid of the np.diag() in the next line\u001b[39;00m\n\u001b[0;32m    393\u001b[0m R \u001b[39m=\u001b[39m W_sr[:, np\u001b[39m.\u001b[39mnewaxis] \u001b[39m*\u001b[39m cho_solve((L, \u001b[39mTrue\u001b[39;00m), np\u001b[39m.\u001b[39mdiag(W_sr))  \u001b[39m# Line 7\u001b[39;00m\n\u001b[1;32m--> 394\u001b[0m C \u001b[39m=\u001b[39m solve(L, W_sr[:, np\u001b[39m.\u001b[39mnewaxis] \u001b[39m*\u001b[39m K)  \u001b[39m# Line 8\u001b[39;00m\n\u001b[0;32m    395\u001b[0m \u001b[39m# Line 9: (use einsum to compute np.diag(C.T.dot(C))))\u001b[39;00m\n\u001b[0;32m    396\u001b[0m s_2 \u001b[39m=\u001b[39m (\n\u001b[0;32m    397\u001b[0m     \u001b[39m-\u001b[39m\u001b[39m0.5\u001b[39m\n\u001b[0;32m    398\u001b[0m     \u001b[39m*\u001b[39m (np\u001b[39m.\u001b[39mdiag(K) \u001b[39m-\u001b[39m np\u001b[39m.\u001b[39meinsum(\u001b[39m\"\u001b[39m\u001b[39mij, ij -> j\u001b[39m\u001b[39m\"\u001b[39m, C, C))\n\u001b[0;32m    399\u001b[0m     \u001b[39m*\u001b[39m (pi \u001b[39m*\u001b[39m (\u001b[39m1\u001b[39m \u001b[39m-\u001b[39m pi) \u001b[39m*\u001b[39m (\u001b[39m1\u001b[39m \u001b[39m-\u001b[39m \u001b[39m2\u001b[39m \u001b[39m*\u001b[39m pi))\n\u001b[0;32m    400\u001b[0m )  \u001b[39m# third derivative\u001b[39;00m\n",
      "File \u001b[1;32mc:\\Users\\YuweiZhu\\anaconda3\\envs\\terminal\\Lib\\site-packages\\scipy\\linalg\\_basic.py:52\u001b[0m, in \u001b[0;36msolve\u001b[1;34m(a, b, lower, overwrite_a, overwrite_b, check_finite, assume_a, transposed)\u001b[0m\n\u001b[0;32m     46\u001b[0m     \u001b[39mif\u001b[39;00m rcond \u001b[39m<\u001b[39m E:\n\u001b[0;32m     47\u001b[0m         warn(\u001b[39m'\u001b[39m\u001b[39mIll-conditioned matrix (rcond=\u001b[39m\u001b[39m{:.6g}\u001b[39;00m\u001b[39m): \u001b[39m\u001b[39m'\u001b[39m\n\u001b[0;32m     48\u001b[0m              \u001b[39m'\u001b[39m\u001b[39mresult may not be accurate.\u001b[39m\u001b[39m'\u001b[39m\u001b[39m.\u001b[39mformat(rcond),\n\u001b[0;32m     49\u001b[0m              LinAlgWarning, stacklevel\u001b[39m=\u001b[39m\u001b[39m3\u001b[39m)\n\u001b[1;32m---> 52\u001b[0m \u001b[39mdef\u001b[39;00m \u001b[39msolve\u001b[39m(a, b, lower\u001b[39m=\u001b[39m\u001b[39mFalse\u001b[39;00m, overwrite_a\u001b[39m=\u001b[39m\u001b[39mFalse\u001b[39;00m,\n\u001b[0;32m     53\u001b[0m           overwrite_b\u001b[39m=\u001b[39m\u001b[39mFalse\u001b[39;00m, check_finite\u001b[39m=\u001b[39m\u001b[39mTrue\u001b[39;00m, assume_a\u001b[39m=\u001b[39m\u001b[39m'\u001b[39m\u001b[39mgen\u001b[39m\u001b[39m'\u001b[39m,\n\u001b[0;32m     54\u001b[0m           transposed\u001b[39m=\u001b[39m\u001b[39mFalse\u001b[39;00m):\n\u001b[0;32m     55\u001b[0m \u001b[39m    \u001b[39m\u001b[39m\"\"\"\u001b[39;00m\n\u001b[0;32m     56\u001b[0m \u001b[39m    Solves the linear equation set ``a @ x == b`` for the unknown ``x``\u001b[39;00m\n\u001b[0;32m     57\u001b[0m \u001b[39m    for square `a` matrix.\u001b[39;00m\n\u001b[1;32m   (...)\u001b[0m\n\u001b[0;32m    143\u001b[0m \n\u001b[0;32m    144\u001b[0m \u001b[39m    \"\"\"\u001b[39;00m\n\u001b[0;32m    145\u001b[0m     \u001b[39m# Flags for 1-D or N-D right-hand side\u001b[39;00m\n",
      "\u001b[1;31mKeyboardInterrupt\u001b[0m: "
     ]
    }
   ],
   "source": [
    "from sklearn.gaussian_process import GaussianProcessClassifier\n",
    "from sklearn.gaussian_process.kernels import RBF, ConstantKernel, WhiteKernel, DotProduct\n",
    "\n",
    "gpc = GaussianProcessClassifier(**{'kernel': 1**2 + RBF(length_scale=5) + WhiteKernel(noise_level=1), 'n_restarts_optimizer': 10, 'random_state': 123})\n",
    "gpc.fit(X_train, y_train)\n",
    "gpc.score(X_test, y_test)"
   ]
  },
  {
   "cell_type": "code",
   "execution_count": 7,
   "metadata": {},
   "outputs": [
    {
     "data": {
      "text/plain": [
       "<sklearn.metrics._plot.confusion_matrix.ConfusionMatrixDisplay at 0x18bff98b050>"
      ]
     },
     "execution_count": 7,
     "metadata": {},
     "output_type": "execute_result"
    },
    {
     "data": {
      "image/png": "[encoded data removed]",
      "text/plain": [
       "<Figure size 640x480 with 2 Axes>"
      ]
     },
     "metadata": {},
     "output_type": "display_data"
    }
   ],
   "source": [
    "from sklearn.metrics import r2_score, confusion_matrix, ConfusionMatrixDisplay\n",
    "\n",
    "y_pred = gpc.predict(X_test)\n",
    "cm = confusion_matrix(y_test, y_pred, labels=gpc.classes_)\n",
    "\n",
    "disp = ConfusionMatrixDisplay(confusion_matrix=cm, display_labels=gpc.classes_)\n",
    "disp.plot()"
   ]
  },
  {
   "cell_type": "code",
   "execution_count": 6,
   "metadata": {},
   "outputs": [
    {
     "data": {
      "text/plain": [
       "-0.44107291924668135"
      ]
     },
     "execution_count": 6,
     "metadata": {},
     "output_type": "execute_result"
    }
   ],
   "source": [
    "from sklearn.metrics import r2_score\n",
    "y_pred = gpc.predict(X_test)\n",
    "r2_score(y_test, y_pred)"
   ]
  },
  {
   "cell_type": "code",
   "execution_count": 39,
   "metadata": {},
   "outputs": [],
   "source": [
    "df[\"Next Close\"] = df[\"Close\"].shift(1)"
   ]
  },
  {
   "cell_type": "code",
   "execution_count": 40,
   "metadata": {},
   "outputs": [],
   "source": [
    "df[\"Difference\"] = df[\"Close\"] - df[\"Next Close\"]"
   ]
  },
  {
   "cell_type": "code",
   "execution_count": 41,
   "metadata": {},
   "outputs": [],
   "source": [
    "df[\"Profit\"] = (df[\"Difference\"] > 0).astype(int)"
   ]
  },
  {
   "cell_type": "code",
   "execution_count": 42,
   "metadata": {},
   "outputs": [],
   "source": [
    "df = df.drop([0])"
   ]
  },
  {
   "cell_type": "code",
   "execution_count": 43,
   "metadata": {},
   "outputs": [],
   "source": [
    "df = find_recent_trends(df)"
   ]
  },
  {
   "cell_type": "code",
   "execution_count": 45,
   "metadata": {},
   "outputs": [
    {
     "data": {
      "text/html": [
       "<div>\n",
       "<style scoped>\n",
       "    .dataframe tbody tr th:only-of-type {\n",
       "        vertical-align: middle;\n",
       "    }\n",
       "\n",
       "    .dataframe tbody tr th {\n",
       "        vertical-align: top;\n",
       "    }\n",
       "\n",
       "    .dataframe thead th {\n",
       "        text-align: right;\n",
       "    }\n",
       "</style>\n",
       "<table border=\"1\" class=\"dataframe\">\n",
       "  <thead>\n",
       "    <tr style=\"text-align: right;\">\n",
       "      <th></th>\n",
       "      <th>Date</th>\n",
       "      <th>Open</th>\n",
       "      <th>High</th>\n",
       "      <th>Low</th>\n",
       "      <th>Close</th>\n",
       "      <th>Adj Close</th>\n",
       "      <th>Volume</th>\n",
       "      <th>Next Close</th>\n",
       "      <th>Difference</th>\n",
       "      <th>Profit</th>\n",
       "      <th>Last 2 days</th>\n",
       "      <th>Last 7 days</th>\n",
       "      <th>Last 30 days</th>\n",
       "      <th>Last 100 days</th>\n",
       "    </tr>\n",
       "  </thead>\n",
       "  <tbody>\n",
       "    <tr>\n",
       "      <th>100</th>\n",
       "      <td>1981-05-07</td>\n",
       "      <td>0.123884</td>\n",
       "      <td>0.124442</td>\n",
       "      <td>0.123884</td>\n",
       "      <td>0.123884</td>\n",
       "      <td>0.095991</td>\n",
       "      <td>9363200</td>\n",
       "      <td>0.122210</td>\n",
       "      <td>0.001674</td>\n",
       "      <td>1</td>\n",
       "      <td>1.0</td>\n",
       "      <td>2.0</td>\n",
       "      <td>11.0</td>\n",
       "      <td>42.0</td>\n",
       "    </tr>\n",
       "    <tr>\n",
       "      <th>101</th>\n",
       "      <td>1981-05-08</td>\n",
       "      <td>0.125000</td>\n",
       "      <td>0.125558</td>\n",
       "      <td>0.125000</td>\n",
       "      <td>0.125000</td>\n",
       "      <td>0.096855</td>\n",
       "      <td>7907200</td>\n",
       "      <td>0.123884</td>\n",
       "      <td>0.001116</td>\n",
       "      <td>1</td>\n",
       "      <td>2.0</td>\n",
       "      <td>3.0</td>\n",
       "      <td>12.0</td>\n",
       "      <td>43.0</td>\n",
       "    </tr>\n",
       "    <tr>\n",
       "      <th>102</th>\n",
       "      <td>1981-05-11</td>\n",
       "      <td>0.122768</td>\n",
       "      <td>0.122768</td>\n",
       "      <td>0.122210</td>\n",
       "      <td>0.122210</td>\n",
       "      <td>0.094694</td>\n",
       "      <td>11939200</td>\n",
       "      <td>0.125000</td>\n",
       "      <td>-0.002790</td>\n",
       "      <td>0</td>\n",
       "      <td>1.0</td>\n",
       "      <td>2.0</td>\n",
       "      <td>12.0</td>\n",
       "      <td>43.0</td>\n",
       "    </tr>\n",
       "    <tr>\n",
       "      <th>103</th>\n",
       "      <td>1981-05-12</td>\n",
       "      <td>0.122210</td>\n",
       "      <td>0.123884</td>\n",
       "      <td>0.122210</td>\n",
       "      <td>0.122210</td>\n",
       "      <td>0.094694</td>\n",
       "      <td>4256000</td>\n",
       "      <td>0.122210</td>\n",
       "      <td>0.000000</td>\n",
       "      <td>0</td>\n",
       "      <td>0.0</td>\n",
       "      <td>2.0</td>\n",
       "      <td>12.0</td>\n",
       "      <td>42.0</td>\n",
       "    </tr>\n",
       "    <tr>\n",
       "      <th>104</th>\n",
       "      <td>1981-05-13</td>\n",
       "      <td>0.122210</td>\n",
       "      <td>0.123326</td>\n",
       "      <td>0.121652</td>\n",
       "      <td>0.121652</td>\n",
       "      <td>0.094261</td>\n",
       "      <td>4905600</td>\n",
       "      <td>0.122210</td>\n",
       "      <td>-0.000558</td>\n",
       "      <td>0</td>\n",
       "      <td>0.0</td>\n",
       "      <td>2.0</td>\n",
       "      <td>12.0</td>\n",
       "      <td>41.0</td>\n",
       "    </tr>\n",
       "    <tr>\n",
       "      <th>...</th>\n",
       "      <td>...</td>\n",
       "      <td>...</td>\n",
       "      <td>...</td>\n",
       "      <td>...</td>\n",
       "      <td>...</td>\n",
       "      <td>...</td>\n",
       "      <td>...</td>\n",
       "      <td>...</td>\n",
       "      <td>...</td>\n",
       "      <td>...</td>\n",
       "      <td>...</td>\n",
       "      <td>...</td>\n",
       "      <td>...</td>\n",
       "      <td>...</td>\n",
       "    </tr>\n",
       "    <tr>\n",
       "      <th>10804</th>\n",
       "      <td>2023-10-20</td>\n",
       "      <td>175.309998</td>\n",
       "      <td>175.419998</td>\n",
       "      <td>172.639999</td>\n",
       "      <td>172.880005</td>\n",
       "      <td>172.880005</td>\n",
       "      <td>64189300</td>\n",
       "      <td>175.460007</td>\n",
       "      <td>-2.580002</td>\n",
       "      <td>0</td>\n",
       "      <td>0.0</td>\n",
       "      <td>1.0</td>\n",
       "      <td>15.0</td>\n",
       "      <td>53.0</td>\n",
       "    </tr>\n",
       "    <tr>\n",
       "      <th>10805</th>\n",
       "      <td>2023-10-23</td>\n",
       "      <td>170.910004</td>\n",
       "      <td>174.009995</td>\n",
       "      <td>169.929993</td>\n",
       "      <td>173.000000</td>\n",
       "      <td>173.000000</td>\n",
       "      <td>55980100</td>\n",
       "      <td>172.880005</td>\n",
       "      <td>0.119995</td>\n",
       "      <td>1</td>\n",
       "      <td>1.0</td>\n",
       "      <td>1.0</td>\n",
       "      <td>15.0</td>\n",
       "      <td>54.0</td>\n",
       "    </tr>\n",
       "    <tr>\n",
       "      <th>10806</th>\n",
       "      <td>2023-10-24</td>\n",
       "      <td>173.050003</td>\n",
       "      <td>173.669998</td>\n",
       "      <td>171.449997</td>\n",
       "      <td>173.440002</td>\n",
       "      <td>173.440002</td>\n",
       "      <td>43816600</td>\n",
       "      <td>173.000000</td>\n",
       "      <td>0.440002</td>\n",
       "      <td>1</td>\n",
       "      <td>2.0</td>\n",
       "      <td>2.0</td>\n",
       "      <td>16.0</td>\n",
       "      <td>54.0</td>\n",
       "    </tr>\n",
       "    <tr>\n",
       "      <th>10807</th>\n",
       "      <td>2023-10-25</td>\n",
       "      <td>171.880005</td>\n",
       "      <td>173.059998</td>\n",
       "      <td>170.649994</td>\n",
       "      <td>171.100006</td>\n",
       "      <td>171.100006</td>\n",
       "      <td>57157000</td>\n",
       "      <td>173.440002</td>\n",
       "      <td>-2.339996</td>\n",
       "      <td>0</td>\n",
       "      <td>1.0</td>\n",
       "      <td>2.0</td>\n",
       "      <td>16.0</td>\n",
       "      <td>53.0</td>\n",
       "    </tr>\n",
       "    <tr>\n",
       "      <th>10808</th>\n",
       "      <td>2023-10-26</td>\n",
       "      <td>170.369995</td>\n",
       "      <td>171.380005</td>\n",
       "      <td>165.669998</td>\n",
       "      <td>166.889999</td>\n",
       "      <td>166.889999</td>\n",
       "      <td>70345400</td>\n",
       "      <td>171.100006</td>\n",
       "      <td>-4.210007</td>\n",
       "      <td>0</td>\n",
       "      <td>0.0</td>\n",
       "      <td>2.0</td>\n",
       "      <td>15.0</td>\n",
       "      <td>53.0</td>\n",
       "    </tr>\n",
       "  </tbody>\n",
       "</table>\n",
       "<p>10709 rows × 14 columns</p>\n",
       "</div>"
      ],
      "text/plain": [
       "             Date        Open        High         Low       Close   Adj Close  \\\n",
       "100    1981-05-07    0.123884    0.124442    0.123884    0.123884    0.095991   \n",
       "101    1981-05-08    0.125000    0.125558    0.125000    0.125000    0.096855   \n",
       "102    1981-05-11    0.122768    0.122768    0.122210    0.122210    0.094694   \n",
       "103    1981-05-12    0.122210    0.123884    0.122210    0.122210    0.094694   \n",
       "104    1981-05-13    0.122210    0.123326    0.121652    0.121652    0.094261   \n",
       "...           ...         ...         ...         ...         ...         ...   \n",
       "10804  2023-10-20  175.309998  175.419998  172.639999  172.880005  172.880005   \n",
       "10805  2023-10-23  170.910004  174.009995  169.929993  173.000000  173.000000   \n",
       "10806  2023-10-24  173.050003  173.669998  171.449997  173.440002  173.440002   \n",
       "10807  2023-10-25  171.880005  173.059998  170.649994  171.100006  171.100006   \n",
       "10808  2023-10-26  170.369995  171.380005  165.669998  166.889999  166.889999   \n",
       "\n",
       "         Volume  Next Close  Difference  Profit  Last 2 days  Last 7 days  \\\n",
       "100     9363200    0.122210    0.001674       1          1.0          2.0   \n",
       "101     7907200    0.123884    0.001116       1          2.0          3.0   \n",
       "102    11939200    0.125000   -0.002790       0          1.0          2.0   \n",
       "103     4256000    0.122210    0.000000       0          0.0          2.0   \n",
       "104     4905600    0.122210   -0.000558       0          0.0          2.0   \n",
       "...         ...         ...         ...     ...          ...          ...   \n",
       "10804  64189300  175.460007   -2.580002       0          0.0          1.0   \n",
       "10805  55980100  172.880005    0.119995       1          1.0          1.0   \n",
       "10806  43816600  173.000000    0.440002       1          2.0          2.0   \n",
       "10807  57157000  173.440002   -2.339996       0          1.0          2.0   \n",
       "10808  70345400  171.100006   -4.210007       0          0.0          2.0   \n",
       "\n",
       "       Last 30 days  Last 100 days  \n",
       "100            11.0           42.0  \n",
       "101            12.0           43.0  \n",
       "102            12.0           43.0  \n",
       "103            12.0           42.0  \n",
       "104            12.0           41.0  \n",
       "...             ...            ...  \n",
       "10804          15.0           53.0  \n",
       "10805          15.0           54.0  \n",
       "10806          16.0           54.0  \n",
       "10807          16.0           53.0  \n",
       "10808          15.0           53.0  \n",
       "\n",
       "[10709 rows x 14 columns]"
      ]
     },
     "execution_count": 45,
     "metadata": {},
     "output_type": "execute_result"
    }
   ],
   "source": [
    "df = df.dropna()\n",
    "df"
   ]
  },
  {
   "cell_type": "code",
   "execution_count": 46,
   "metadata": {},
   "outputs": [],
   "source": [
    "X = df[[\"Open\", \"High\", \"Low\", \"Close\", \"Volume\", \"Last 2 days\", \"Last 7 days\", \"Last 30 days\", \"Last 100 days\"]]\n",
    "y = df[\"Profit\"]"
   ]
  },
  {
   "cell_type": "code",
   "execution_count": 47,
   "metadata": {},
   "outputs": [],
   "source": [
    "from sklearn.model_selection import train_test_split\n",
    "\n",
    "X_train, X_test, y_train, y_test = train_test_split(X, y, test_size=0.2, random_state=1)"
   ]
  },
  {
   "cell_type": "code",
   "execution_count": 48,
   "metadata": {},
   "outputs": [],
   "source": [
    "from sklearn.preprocessing import StandardScaler\n",
    "\n",
    "scaler = StandardScaler()\n",
    "X_train = scaler.fit_transform(X_train)\n",
    "X_test = scaler.transform(X_test)"
   ]
  },
  {
   "cell_type": "code",
   "execution_count": 49,
   "metadata": {},
   "outputs": [
    {
     "data": {
      "text/plain": [
       "array([[-0.47283795, -0.47244167, -0.47293075, ...,  0.38921156,\n",
       "         0.37390384,  0.22373285],\n",
       "       [ 0.90294628,  0.89625522,  0.90826908, ...,  1.15135452,\n",
       "         1.41809624,  1.06521117],\n",
       "       [-0.47285096, -0.47265206, -0.47283855, ..., -0.3729314 ,\n",
       "        -0.32222442,  0.22373285],\n",
       "       ...,\n",
       "       [-0.48023891, -0.48013208, -0.4802607 , ...,  0.38921156,\n",
       "        -0.32222442, -1.96411078],\n",
       "       [-0.47371951, -0.4735623 , -0.4739361 , ...,  0.38921156,\n",
       "         0.72196797,  0.05543718],\n",
       "       [-0.48117529, -0.48107129, -0.48117988, ..., -1.89721732,\n",
       "        -2.41060922, -1.45922379]])"
      ]
     },
     "execution_count": 49,
     "metadata": {},
     "output_type": "execute_result"
    }
   ],
   "source": [
    "X_train"
   ]
  },
  {
   "cell_type": "code",
   "execution_count": 54,
   "metadata": {},
   "outputs": [],
   "source": [
    "from sklearn.ensemble import RandomForestRegressor\n",
    "from sklearn.linear_model import LogisticRegression\n",
    "from sklearn.metrics import r2_score, confusion_matrix, ConfusionMatrixDisplay"
   ]
  },
  {
   "cell_type": "code",
   "execution_count": 55,
   "metadata": {},
   "outputs": [
    {
     "data": {
      "text/plain": [
       "0.518835435076443"
      ]
     },
     "execution_count": 55,
     "metadata": {},
     "output_type": "execute_result"
    }
   ],
   "source": [
    "rfr = RandomForestRegressor()\n",
    "rfr.fit(X_train, y_train)\n",
    "rfr.score(X_test, y_test)\n",
    "y_pred = rfr.predict(X_test)\n",
    "\n",
    "r2_score(y_test, y_pred)"
   ]
  },
  {
   "cell_type": "code",
   "execution_count": 51,
   "metadata": {},
   "outputs": [
    {
     "data": {
      "text/plain": [
       "0.7894491129785247"
      ]
     },
     "execution_count": 51,
     "metadata": {},
     "output_type": "execute_result"
    }
   ],
   "source": [
    "lr = LogisticRegression()\n",
    "lr.fit(X_train, y_train)\n",
    "\n",
    "y_pred = lr.predict(X_test)\n",
    "lr.score(X_test, y_test)"
   ]
  },
  {
   "cell_type": "code",
   "execution_count": 52,
   "metadata": {},
   "outputs": [
    {
     "data": {
      "text/plain": [
       "0.15779645191409897"
      ]
     },
     "execution_count": 52,
     "metadata": {},
     "output_type": "execute_result"
    }
   ],
   "source": [
    "mse = lambda x, y : sum((x - y)**2)\n",
    "\n",
    "avg = np.array([0.5]*len(y_pred))\n",
    "\n",
    "1 - mse(y_pred, y_test)/mse(avg, y_test)"
   ]
  },
  {
   "cell_type": "code",
   "execution_count": 22,
   "metadata": {},
   "outputs": [],
   "source": [
    "def threshold(y_pred):\n",
    "\n",
    "    for i in range(len(y_pred)):\n",
    "        y_pred[i] = int(y_pred[i] >= 0.5)\n",
    "\n",
    "    return y_pred"
   ]
  },
  {
   "cell_type": "code",
   "execution_count": 27,
   "metadata": {},
   "outputs": [
    {
     "data": {
      "text/plain": [
       "-0.582410301319767"
      ]
     },
     "execution_count": 27,
     "metadata": {},
     "output_type": "execute_result"
    }
   ],
   "source": [
    "r2_score(y_test, y_pred)"
   ]
  },
  {
   "cell_type": "code",
   "execution_count": 28,
   "metadata": {},
   "outputs": [
    {
     "data": {
      "text/plain": [
       "<sklearn.metrics._plot.confusion_matrix.ConfusionMatrixDisplay at 0x242217c70d0>"
      ]
     },
     "execution_count": 28,
     "metadata": {},
     "output_type": "execute_result"
    },
    {
     "data": {
      "image/png": "[encoded data removed]",
      "text/plain": [
       "<Figure size 640x480 with 2 Axes>"
      ]
     },
     "metadata": {},
     "output_type": "display_data"
    }
   ],
   "source": [
    "cm = confusion_matrix(y_test, y_pred, labels=lr.classes_)\n",
    "\n",
    "disp = ConfusionMatrixDisplay(confusion_matrix=cm, display_labels=lr.classes_)\n",
    "disp.plot()"
   ]
  }
 ],
 "metadata": {
  "kernelspec": {
   "display_name": "terminal",
   "language": "python",
   "name": "python3"
  },
  "language_info": {
   "codemirror_mode": {
    "name": "ipython",
    "version": 3
   },
   "file_extension": ".py",
   "mimetype": "text/x-python",
   "name": "python",
   "nbconvert_exporter": "python",
   "pygments_lexer": "ipython3",
   "version": "3.11.5"
  }
 },
 "nbformat": 4,
 "nbformat_minor": 2
}
