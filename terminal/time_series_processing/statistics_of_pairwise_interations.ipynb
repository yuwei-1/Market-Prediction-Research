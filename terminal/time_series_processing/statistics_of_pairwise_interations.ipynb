{
 "cells": [
  {
   "cell_type": "code",
   "execution_count": 2,
   "metadata": {},
   "outputs": [],
   "source": [
    "import pandas as pd\n",
    "import numpy as np\n",
    "from sklearn.covariance import EmpiricalCovariance"
   ]
  },
  {
   "cell_type": "code",
   "execution_count": 47,
   "metadata": {},
   "outputs": [],
   "source": [
    "x = np.array([[1,2,3,4,5],[2,3,4,5,6]]).T"
   ]
  },
  {
   "cell_type": "code",
   "execution_count": 35,
   "metadata": {},
   "outputs": [],
   "source": [
    "x[:,0] = x[:,0] - 3\n",
    "x[:,1] = x[:,1] - 4"
   ]
  },
  {
   "cell_type": "code",
   "execution_count": 48,
   "metadata": {},
   "outputs": [
    {
     "data": {
      "text/plain": [
       "array([[1, 2],\n",
       "       [2, 3],\n",
       "       [3, 4],\n",
       "       [4, 5],\n",
       "       [5, 6]])"
      ]
     },
     "execution_count": 48,
     "metadata": {},
     "output_type": "execute_result"
    }
   ],
   "source": [
    "x"
   ]
  },
  {
   "cell_type": "code",
   "execution_count": 49,
   "metadata": {},
   "outputs": [],
   "source": [
    "ecov = EmpiricalCovariance(assume_centered=True)"
   ]
  },
  {
   "cell_type": "code",
   "execution_count": 50,
   "metadata": {},
   "outputs": [
    {
     "data": {
      "text/plain": [
       "EmpiricalCovariance(assume_centered=True)"
      ]
     },
     "execution_count": 50,
     "metadata": {},
     "output_type": "execute_result"
    }
   ],
   "source": [
    "ecov.fit(x)"
   ]
  },
  {
   "cell_type": "code",
   "execution_count": 51,
   "metadata": {},
   "outputs": [
    {
     "data": {
      "text/plain": [
       "array([[11., 14.],\n",
       "       [14., 18.]])"
      ]
     },
     "execution_count": 51,
     "metadata": {},
     "output_type": "execute_result"
    }
   ],
   "source": [
    "ecov.covariance_"
   ]
  },
  {
   "cell_type": "code",
   "execution_count": 52,
   "metadata": {},
   "outputs": [
    {
     "data": {
      "text/plain": [
       "11.0"
      ]
     },
     "execution_count": 52,
     "metadata": {},
     "output_type": "execute_result"
    }
   ],
   "source": [
    "## mean of feat 1 : 3\n",
    "## mean of feat 2 : 4\n",
    "\n",
    "covxx = ((x[:,0])**2).sum()/x.shape[0]\n",
    "covxx"
   ]
  },
  {
   "cell_type": "code",
   "execution_count": 53,
   "metadata": {},
   "outputs": [
    {
     "data": {
      "text/plain": [
       "18.0"
      ]
     },
     "execution_count": 53,
     "metadata": {},
     "output_type": "execute_result"
    }
   ],
   "source": [
    "covyy = ((x[:,1])**2).sum()/x.shape[0]\n",
    "covyy"
   ]
  },
  {
   "cell_type": "code",
   "execution_count": 54,
   "metadata": {},
   "outputs": [
    {
     "data": {
      "text/plain": [
       "14.0"
      ]
     },
     "execution_count": 54,
     "metadata": {},
     "output_type": "execute_result"
    }
   ],
   "source": [
    "covxy = covyx = ((x[:,0])*(x[:,1])).sum()/x.shape[0]\n",
    "covxy"
   ]
  },
  {
   "cell_type": "code",
   "execution_count": 49,
   "metadata": {},
   "outputs": [],
   "source": [
    "path = \"Data/\"\n",
    "\n",
    "df = pd.read_csv(path + \"CollegeMsg.txt\", sep=\" \", header=None, names=[\"i\", \"j\", \"time\"])"
   ]
  },
  {
   "cell_type": "code",
   "execution_count": 50,
   "metadata": {},
   "outputs": [],
   "source": [
    "df[\"normalised_time\"] = df[\"time\"] - df[\"time\"].min()"
   ]
  },
  {
   "cell_type": "code",
   "execution_count": 51,
   "metadata": {},
   "outputs": [
    {
     "data": {
      "text/html": [
       "<div>\n",
       "<style scoped>\n",
       "    .dataframe tbody tr th:only-of-type {\n",
       "        vertical-align: middle;\n",
       "    }\n",
       "\n",
       "    .dataframe tbody tr th {\n",
       "        vertical-align: top;\n",
       "    }\n",
       "\n",
       "    .dataframe thead th {\n",
       "        text-align: right;\n",
       "    }\n",
       "</style>\n",
       "<table border=\"1\" class=\"dataframe\">\n",
       "  <thead>\n",
       "    <tr style=\"text-align: right;\">\n",
       "      <th></th>\n",
       "      <th>i</th>\n",
       "      <th>j</th>\n",
       "      <th>time</th>\n",
       "      <th>normalised_time</th>\n",
       "      <th>time_gap</th>\n",
       "    </tr>\n",
       "  </thead>\n",
       "  <tbody>\n",
       "    <tr>\n",
       "      <th>0</th>\n",
       "      <td>1</td>\n",
       "      <td>2</td>\n",
       "      <td>1082040961</td>\n",
       "      <td>0</td>\n",
       "      <td>NaN</td>\n",
       "    </tr>\n",
       "    <tr>\n",
       "      <th>1</th>\n",
       "      <td>3</td>\n",
       "      <td>4</td>\n",
       "      <td>1082155839</td>\n",
       "      <td>114878</td>\n",
       "      <td>114878.0</td>\n",
       "    </tr>\n",
       "    <tr>\n",
       "      <th>2</th>\n",
       "      <td>5</td>\n",
       "      <td>2</td>\n",
       "      <td>1082414391</td>\n",
       "      <td>373430</td>\n",
       "      <td>258552.0</td>\n",
       "    </tr>\n",
       "    <tr>\n",
       "      <th>3</th>\n",
       "      <td>6</td>\n",
       "      <td>7</td>\n",
       "      <td>1082439619</td>\n",
       "      <td>398658</td>\n",
       "      <td>25228.0</td>\n",
       "    </tr>\n",
       "    <tr>\n",
       "      <th>4</th>\n",
       "      <td>8</td>\n",
       "      <td>7</td>\n",
       "      <td>1082439756</td>\n",
       "      <td>398795</td>\n",
       "      <td>137.0</td>\n",
       "    </tr>\n",
       "    <tr>\n",
       "      <th>...</th>\n",
       "      <td>...</td>\n",
       "      <td>...</td>\n",
       "      <td>...</td>\n",
       "      <td>...</td>\n",
       "      <td>...</td>\n",
       "    </tr>\n",
       "    <tr>\n",
       "      <th>59830</th>\n",
       "      <td>1899</td>\n",
       "      <td>1847</td>\n",
       "      <td>1098776648</td>\n",
       "      <td>16735687</td>\n",
       "      <td>175.0</td>\n",
       "    </tr>\n",
       "    <tr>\n",
       "      <th>59831</th>\n",
       "      <td>1899</td>\n",
       "      <td>1097</td>\n",
       "      <td>1098776836</td>\n",
       "      <td>16735875</td>\n",
       "      <td>188.0</td>\n",
       "    </tr>\n",
       "    <tr>\n",
       "      <th>59832</th>\n",
       "      <td>1899</td>\n",
       "      <td>277</td>\n",
       "      <td>1098777003</td>\n",
       "      <td>16736042</td>\n",
       "      <td>167.0</td>\n",
       "    </tr>\n",
       "    <tr>\n",
       "      <th>59833</th>\n",
       "      <td>1878</td>\n",
       "      <td>1624</td>\n",
       "      <td>1098777111</td>\n",
       "      <td>16736150</td>\n",
       "      <td>108.0</td>\n",
       "    </tr>\n",
       "    <tr>\n",
       "      <th>59834</th>\n",
       "      <td>1878</td>\n",
       "      <td>1624</td>\n",
       "      <td>1098777142</td>\n",
       "      <td>16736181</td>\n",
       "      <td>31.0</td>\n",
       "    </tr>\n",
       "  </tbody>\n",
       "</table>\n",
       "<p>59835 rows × 5 columns</p>\n",
       "</div>"
      ],
      "text/plain": [
       "          i     j        time  normalised_time  time_gap\n",
       "0         1     2  1082040961                0       NaN\n",
       "1         3     4  1082155839           114878  114878.0\n",
       "2         5     2  1082414391           373430  258552.0\n",
       "3         6     7  1082439619           398658   25228.0\n",
       "4         8     7  1082439756           398795     137.0\n",
       "...     ...   ...         ...              ...       ...\n",
       "59830  1899  1847  1098776648         16735687     175.0\n",
       "59831  1899  1097  1098776836         16735875     188.0\n",
       "59832  1899   277  1098777003         16736042     167.0\n",
       "59833  1878  1624  1098777111         16736150     108.0\n",
       "59834  1878  1624  1098777142         16736181      31.0\n",
       "\n",
       "[59835 rows x 5 columns]"
      ]
     },
     "execution_count": 51,
     "metadata": {},
     "output_type": "execute_result"
    }
   ],
   "source": [
    "df[\"time_gap\"] = df[\"normalised_time\"] - df[\"normalised_time\"].shift(1)\n",
    "df"
   ]
  },
  {
   "cell_type": "code",
   "execution_count": 56,
   "metadata": {},
   "outputs": [
    {
     "data": {
      "text/plain": [
       "9       1091\n",
       "323     1012\n",
       "12       993\n",
       "103      739\n",
       "105      686\n",
       "        ... \n",
       "580        1\n",
       "461        1\n",
       "226        1\n",
       "86         1\n",
       "1259       1\n",
       "Name: i, Length: 1350, dtype: int64"
      ]
     },
     "execution_count": 56,
     "metadata": {},
     "output_type": "execute_result"
    }
   ],
   "source": [
    "df[\"i\"].value_counts()"
   ]
  },
  {
   "cell_type": "code",
   "execution_count": 75,
   "metadata": {},
   "outputs": [],
   "source": [
    "x = list(df[\"i\"].value_counts())\n",
    "ind = list(df[\"i\"].value_counts().index)\n",
    "\n",
    "one_occ = set()\n",
    "\n",
    "for i in range(len(x)):\n",
    "    if x[i] < 10:\n",
    "        one_occ.add(ind[i])"
   ]
  },
  {
   "cell_type": "code",
   "execution_count": 76,
   "metadata": {},
   "outputs": [],
   "source": [
    "x = list(df[\"j\"].value_counts())\n",
    "ind = list(df[\"j\"].value_counts().index)\n",
    "\n",
    "one_occ_2 = set()\n",
    "\n",
    "for i in range(len(x)):\n",
    "    if x[i] < 10:\n",
    "        one_occ_2.add(ind[i])"
   ]
  },
  {
   "cell_type": "code",
   "execution_count": 77,
   "metadata": {},
   "outputs": [],
   "source": [
    "small_nodes = one_occ_2.union(one_occ)"
   ]
  },
  {
   "cell_type": "code",
   "execution_count": 78,
   "metadata": {},
   "outputs": [
    {
     "data": {
      "text/plain": [
       "1152"
      ]
     },
     "execution_count": 78,
     "metadata": {},
     "output_type": "execute_result"
    }
   ],
   "source": [
    "len(small_nodes)"
   ]
  },
  {
   "cell_type": "code",
   "execution_count": 81,
   "metadata": {},
   "outputs": [
    {
     "data": {
      "text/html": [
       "<div>\n",
       "<style scoped>\n",
       "    .dataframe tbody tr th:only-of-type {\n",
       "        vertical-align: middle;\n",
       "    }\n",
       "\n",
       "    .dataframe tbody tr th {\n",
       "        vertical-align: top;\n",
       "    }\n",
       "\n",
       "    .dataframe thead th {\n",
       "        text-align: right;\n",
       "    }\n",
       "</style>\n",
       "<table border=\"1\" class=\"dataframe\">\n",
       "  <thead>\n",
       "    <tr style=\"text-align: right;\">\n",
       "      <th></th>\n",
       "      <th>i</th>\n",
       "      <th>j</th>\n",
       "      <th>time</th>\n",
       "      <th>normalised_time</th>\n",
       "      <th>time_gap</th>\n",
       "    </tr>\n",
       "  </thead>\n",
       "  <tbody>\n",
       "    <tr>\n",
       "      <th>0</th>\n",
       "      <td>1</td>\n",
       "      <td>2</td>\n",
       "      <td>1082040961</td>\n",
       "      <td>0</td>\n",
       "      <td>NaN</td>\n",
       "    </tr>\n",
       "    <tr>\n",
       "      <th>39</th>\n",
       "      <td>41</td>\n",
       "      <td>42</td>\n",
       "      <td>1082574211</td>\n",
       "      <td>533250</td>\n",
       "      <td>32769.0</td>\n",
       "    </tr>\n",
       "    <tr>\n",
       "      <th>48</th>\n",
       "      <td>36</td>\n",
       "      <td>50</td>\n",
       "      <td>1082597715</td>\n",
       "      <td>556754</td>\n",
       "      <td>1160.0</td>\n",
       "    </tr>\n",
       "    <tr>\n",
       "      <th>49</th>\n",
       "      <td>44</td>\n",
       "      <td>51</td>\n",
       "      <td>1082597751</td>\n",
       "      <td>556790</td>\n",
       "      <td>36.0</td>\n",
       "    </tr>\n",
       "    <tr>\n",
       "      <th>50</th>\n",
       "      <td>32</td>\n",
       "      <td>52</td>\n",
       "      <td>1082598056</td>\n",
       "      <td>557095</td>\n",
       "      <td>305.0</td>\n",
       "    </tr>\n",
       "    <tr>\n",
       "      <th>...</th>\n",
       "      <td>...</td>\n",
       "      <td>...</td>\n",
       "      <td>...</td>\n",
       "      <td>...</td>\n",
       "      <td>...</td>\n",
       "    </tr>\n",
       "    <tr>\n",
       "      <th>59829</th>\n",
       "      <td>1899</td>\n",
       "      <td>311</td>\n",
       "      <td>1098776473</td>\n",
       "      <td>16735512</td>\n",
       "      <td>219.0</td>\n",
       "    </tr>\n",
       "    <tr>\n",
       "      <th>59831</th>\n",
       "      <td>1899</td>\n",
       "      <td>1097</td>\n",
       "      <td>1098776836</td>\n",
       "      <td>16735875</td>\n",
       "      <td>188.0</td>\n",
       "    </tr>\n",
       "    <tr>\n",
       "      <th>59832</th>\n",
       "      <td>1899</td>\n",
       "      <td>277</td>\n",
       "      <td>1098777003</td>\n",
       "      <td>16736042</td>\n",
       "      <td>167.0</td>\n",
       "    </tr>\n",
       "    <tr>\n",
       "      <th>59833</th>\n",
       "      <td>1878</td>\n",
       "      <td>1624</td>\n",
       "      <td>1098777111</td>\n",
       "      <td>16736150</td>\n",
       "      <td>108.0</td>\n",
       "    </tr>\n",
       "    <tr>\n",
       "      <th>59834</th>\n",
       "      <td>1878</td>\n",
       "      <td>1624</td>\n",
       "      <td>1098777142</td>\n",
       "      <td>16736181</td>\n",
       "      <td>31.0</td>\n",
       "    </tr>\n",
       "  </tbody>\n",
       "</table>\n",
       "<p>52196 rows × 5 columns</p>\n",
       "</div>"
      ],
      "text/plain": [
       "          i     j        time  normalised_time  time_gap\n",
       "0         1     2  1082040961                0       NaN\n",
       "39       41    42  1082574211           533250   32769.0\n",
       "48       36    50  1082597715           556754    1160.0\n",
       "49       44    51  1082597751           556790      36.0\n",
       "50       32    52  1082598056           557095     305.0\n",
       "...     ...   ...         ...              ...       ...\n",
       "59829  1899   311  1098776473         16735512     219.0\n",
       "59831  1899  1097  1098776836         16735875     188.0\n",
       "59832  1899   277  1098777003         16736042     167.0\n",
       "59833  1878  1624  1098777111         16736150     108.0\n",
       "59834  1878  1624  1098777142         16736181      31.0\n",
       "\n",
       "[52196 rows x 5 columns]"
      ]
     },
     "execution_count": 81,
     "metadata": {},
     "output_type": "execute_result"
    }
   ],
   "source": [
    "shrunk_df = df.loc[(df[\"i\"].isin(small_nodes) == False) & (df[\"j\"].isin(small_nodes) == False), :]\n",
    "shrunk_df"
   ]
  },
  {
   "cell_type": "code",
   "execution_count": 86,
   "metadata": {},
   "outputs": [],
   "source": [
    "unqs = list(set(shrunk_df[\"i\"]).union(set(shrunk_df[\"j\"])))"
   ]
  },
  {
   "cell_type": "code",
   "execution_count": 87,
   "metadata": {},
   "outputs": [
    {
     "data": {
      "text/plain": [
       "747"
      ]
     },
     "execution_count": 87,
     "metadata": {},
     "output_type": "execute_result"
    }
   ],
   "source": [
    "len(unqs)"
   ]
  },
  {
   "cell_type": "code",
   "execution_count": 88,
   "metadata": {},
   "outputs": [],
   "source": [
    "new_idcs = range(len(unqs))"
   ]
  },
  {
   "cell_type": "code",
   "execution_count": 89,
   "metadata": {},
   "outputs": [],
   "source": [
    "mapping = {unqs[i] : new_idcs[i] for i in range(len(unqs))}\n"
   ]
  },
  {
   "cell_type": "code",
   "execution_count": 90,
   "metadata": {},
   "outputs": [
    {
     "name": "stderr",
     "output_type": "stream",
     "text": [
      "/Users/yuwei-1/anaconda3/envs/tick/lib/python3.7/site-packages/ipykernel_launcher.py:1: SettingWithCopyWarning: \n",
      "A value is trying to be set on a copy of a slice from a DataFrame.\n",
      "Try using .loc[row_indexer,col_indexer] = value instead\n",
      "\n",
      "See the caveats in the documentation: https://pandas.pydata.org/pandas-docs/stable/user_guide/indexing.html#returning-a-view-versus-a-copy\n",
      "  \"\"\"Entry point for launching an IPython kernel.\n",
      "/Users/yuwei-1/anaconda3/envs/tick/lib/python3.7/site-packages/ipykernel_launcher.py:2: SettingWithCopyWarning: \n",
      "A value is trying to be set on a copy of a slice from a DataFrame.\n",
      "Try using .loc[row_indexer,col_indexer] = value instead\n",
      "\n",
      "See the caveats in the documentation: https://pandas.pydata.org/pandas-docs/stable/user_guide/indexing.html#returning-a-view-versus-a-copy\n",
      "  \n"
     ]
    }
   ],
   "source": [
    "shrunk_df[\"i\"] = shrunk_df[\"i\"].apply(lambda x : mapping[x])\n",
    "shrunk_df[\"j\"] = shrunk_df[\"j\"].apply(lambda x : mapping[x])"
   ]
  },
  {
   "cell_type": "code",
   "execution_count": 91,
   "metadata": {},
   "outputs": [
    {
     "data": {
      "text/html": [
       "<div>\n",
       "<style scoped>\n",
       "    .dataframe tbody tr th:only-of-type {\n",
       "        vertical-align: middle;\n",
       "    }\n",
       "\n",
       "    .dataframe tbody tr th {\n",
       "        vertical-align: top;\n",
       "    }\n",
       "\n",
       "    .dataframe thead th {\n",
       "        text-align: right;\n",
       "    }\n",
       "</style>\n",
       "<table border=\"1\" class=\"dataframe\">\n",
       "  <thead>\n",
       "    <tr style=\"text-align: right;\">\n",
       "      <th></th>\n",
       "      <th>i</th>\n",
       "      <th>j</th>\n",
       "      <th>time</th>\n",
       "      <th>normalised_time</th>\n",
       "      <th>time_gap</th>\n",
       "    </tr>\n",
       "  </thead>\n",
       "  <tbody>\n",
       "    <tr>\n",
       "      <th>0</th>\n",
       "      <td>0</td>\n",
       "      <td>1</td>\n",
       "      <td>1082040961</td>\n",
       "      <td>0</td>\n",
       "      <td>NaN</td>\n",
       "    </tr>\n",
       "    <tr>\n",
       "      <th>39</th>\n",
       "      <td>16</td>\n",
       "      <td>17</td>\n",
       "      <td>1082574211</td>\n",
       "      <td>533250</td>\n",
       "      <td>32769.0</td>\n",
       "    </tr>\n",
       "    <tr>\n",
       "      <th>48</th>\n",
       "      <td>14</td>\n",
       "      <td>20</td>\n",
       "      <td>1082597715</td>\n",
       "      <td>556754</td>\n",
       "      <td>1160.0</td>\n",
       "    </tr>\n",
       "    <tr>\n",
       "      <th>49</th>\n",
       "      <td>18</td>\n",
       "      <td>21</td>\n",
       "      <td>1082597751</td>\n",
       "      <td>556790</td>\n",
       "      <td>36.0</td>\n",
       "    </tr>\n",
       "    <tr>\n",
       "      <th>50</th>\n",
       "      <td>12</td>\n",
       "      <td>22</td>\n",
       "      <td>1082598056</td>\n",
       "      <td>557095</td>\n",
       "      <td>305.0</td>\n",
       "    </tr>\n",
       "    <tr>\n",
       "      <th>...</th>\n",
       "      <td>...</td>\n",
       "      <td>...</td>\n",
       "      <td>...</td>\n",
       "      <td>...</td>\n",
       "      <td>...</td>\n",
       "    </tr>\n",
       "    <tr>\n",
       "      <th>59829</th>\n",
       "      <td>746</td>\n",
       "      <td>142</td>\n",
       "      <td>1098776473</td>\n",
       "      <td>16735512</td>\n",
       "      <td>219.0</td>\n",
       "    </tr>\n",
       "    <tr>\n",
       "      <th>59831</th>\n",
       "      <td>746</td>\n",
       "      <td>524</td>\n",
       "      <td>1098776836</td>\n",
       "      <td>16735875</td>\n",
       "      <td>188.0</td>\n",
       "    </tr>\n",
       "    <tr>\n",
       "      <th>59832</th>\n",
       "      <td>746</td>\n",
       "      <td>121</td>\n",
       "      <td>1098777003</td>\n",
       "      <td>16736042</td>\n",
       "      <td>167.0</td>\n",
       "    </tr>\n",
       "    <tr>\n",
       "      <th>59833</th>\n",
       "      <td>744</td>\n",
       "      <td>695</td>\n",
       "      <td>1098777111</td>\n",
       "      <td>16736150</td>\n",
       "      <td>108.0</td>\n",
       "    </tr>\n",
       "    <tr>\n",
       "      <th>59834</th>\n",
       "      <td>744</td>\n",
       "      <td>695</td>\n",
       "      <td>1098777142</td>\n",
       "      <td>16736181</td>\n",
       "      <td>31.0</td>\n",
       "    </tr>\n",
       "  </tbody>\n",
       "</table>\n",
       "<p>52196 rows × 5 columns</p>\n",
       "</div>"
      ],
      "text/plain": [
       "         i    j        time  normalised_time  time_gap\n",
       "0        0    1  1082040961                0       NaN\n",
       "39      16   17  1082574211           533250   32769.0\n",
       "48      14   20  1082597715           556754    1160.0\n",
       "49      18   21  1082597751           556790      36.0\n",
       "50      12   22  1082598056           557095     305.0\n",
       "...    ...  ...         ...              ...       ...\n",
       "59829  746  142  1098776473         16735512     219.0\n",
       "59831  746  524  1098776836         16735875     188.0\n",
       "59832  746  121  1098777003         16736042     167.0\n",
       "59833  744  695  1098777111         16736150     108.0\n",
       "59834  744  695  1098777142         16736181      31.0\n",
       "\n",
       "[52196 rows x 5 columns]"
      ]
     },
     "execution_count": 91,
     "metadata": {},
     "output_type": "execute_result"
    }
   ],
   "source": [
    "shrunk_df"
   ]
  },
  {
   "cell_type": "code",
   "execution_count": 103,
   "metadata": {},
   "outputs": [],
   "source": [
    "ind = shrunk_df[[\"i\", \"j\"]].value_counts().index\n",
    "vals = shrunk_df[[\"i\", \"j\"]].value_counts()\n"
   ]
  },
  {
   "cell_type": "code",
   "execution_count": 109,
   "metadata": {},
   "outputs": [],
   "source": [
    "small_interactions = ind[vals < 100]"
   ]
  },
  {
   "cell_type": "code",
   "execution_count": 112,
   "metadata": {},
   "outputs": [
    {
     "ename": "KeyError",
     "evalue": "\"None of [MultiIndex([( 15, 240),\\n            (695, 542),\\n            (542, 695),\\n            (  6, 531),\\n            (  5, 287),\\n            (201, 695),\\n            (153, 134),\\n            (  6, 602),\\n            (602,   6),\\n            (153, 164),\\n            ...\\n            (256, 322),\\n            (256, 681),\\n            (257, 541),\\n            (256, 715),\\n            (257,  50),\\n            (257, 164),\\n            (257, 186),\\n            (257, 293),\\n            (257, 359),\\n            (746, 733)],\\n           names=['i', 'j'], length=15345)] are in the [columns]\"",
     "output_type": "error",
     "traceback": [
      "\u001b[0;31m---------------------------------------------------------------------------\u001b[0m",
      "\u001b[0;31mKeyError\u001b[0m                                  Traceback (most recent call last)",
      "\u001b[0;32m/var/folders/xs/yw83rqss71nc9hlz48gw8blh0000gn/T/ipykernel_64858/120056863.py\u001b[0m in \u001b[0;36m<module>\u001b[0;34m\u001b[0m\n\u001b[0;32m----> 1\u001b[0;31m \u001b[0mshrunk_df\u001b[0m\u001b[0;34m[\u001b[0m\u001b[0msmall_interactions\u001b[0m\u001b[0;34m]\u001b[0m\u001b[0;34m\u001b[0m\u001b[0;34m\u001b[0m\u001b[0m\n\u001b[0m",
      "\u001b[0;32m~/anaconda3/envs/tick/lib/python3.7/site-packages/pandas/core/frame.py\u001b[0m in \u001b[0;36m__getitem__\u001b[0;34m(self, key)\u001b[0m\n\u001b[1;32m   3462\u001b[0m             \u001b[0;32mif\u001b[0m \u001b[0mis_iterator\u001b[0m\u001b[0;34m(\u001b[0m\u001b[0mkey\u001b[0m\u001b[0;34m)\u001b[0m\u001b[0;34m:\u001b[0m\u001b[0;34m\u001b[0m\u001b[0;34m\u001b[0m\u001b[0m\n\u001b[1;32m   3463\u001b[0m                 \u001b[0mkey\u001b[0m \u001b[0;34m=\u001b[0m \u001b[0mlist\u001b[0m\u001b[0;34m(\u001b[0m\u001b[0mkey\u001b[0m\u001b[0;34m)\u001b[0m\u001b[0;34m\u001b[0m\u001b[0;34m\u001b[0m\u001b[0m\n\u001b[0;32m-> 3464\u001b[0;31m             \u001b[0mindexer\u001b[0m \u001b[0;34m=\u001b[0m \u001b[0mself\u001b[0m\u001b[0;34m.\u001b[0m\u001b[0mloc\u001b[0m\u001b[0;34m.\u001b[0m\u001b[0m_get_listlike_indexer\u001b[0m\u001b[0;34m(\u001b[0m\u001b[0mkey\u001b[0m\u001b[0;34m,\u001b[0m \u001b[0maxis\u001b[0m\u001b[0;34m=\u001b[0m\u001b[0;36m1\u001b[0m\u001b[0;34m)\u001b[0m\u001b[0;34m[\u001b[0m\u001b[0;36m1\u001b[0m\u001b[0;34m]\u001b[0m\u001b[0;34m\u001b[0m\u001b[0;34m\u001b[0m\u001b[0m\n\u001b[0m\u001b[1;32m   3465\u001b[0m \u001b[0;34m\u001b[0m\u001b[0m\n\u001b[1;32m   3466\u001b[0m         \u001b[0;31m# take() does not accept boolean indexers\u001b[0m\u001b[0;34m\u001b[0m\u001b[0;34m\u001b[0m\u001b[0;34m\u001b[0m\u001b[0m\n",
      "\u001b[0;32m~/anaconda3/envs/tick/lib/python3.7/site-packages/pandas/core/indexing.py\u001b[0m in \u001b[0;36m_get_listlike_indexer\u001b[0;34m(self, key, axis)\u001b[0m\n\u001b[1;32m   1312\u001b[0m             \u001b[0mkeyarr\u001b[0m\u001b[0;34m,\u001b[0m \u001b[0mindexer\u001b[0m\u001b[0;34m,\u001b[0m \u001b[0mnew_indexer\u001b[0m \u001b[0;34m=\u001b[0m \u001b[0max\u001b[0m\u001b[0;34m.\u001b[0m\u001b[0m_reindex_non_unique\u001b[0m\u001b[0;34m(\u001b[0m\u001b[0mkeyarr\u001b[0m\u001b[0;34m)\u001b[0m\u001b[0;34m\u001b[0m\u001b[0;34m\u001b[0m\u001b[0m\n\u001b[1;32m   1313\u001b[0m \u001b[0;34m\u001b[0m\u001b[0m\n\u001b[0;32m-> 1314\u001b[0;31m         \u001b[0mself\u001b[0m\u001b[0;34m.\u001b[0m\u001b[0m_validate_read_indexer\u001b[0m\u001b[0;34m(\u001b[0m\u001b[0mkeyarr\u001b[0m\u001b[0;34m,\u001b[0m \u001b[0mindexer\u001b[0m\u001b[0;34m,\u001b[0m \u001b[0maxis\u001b[0m\u001b[0;34m)\u001b[0m\u001b[0;34m\u001b[0m\u001b[0;34m\u001b[0m\u001b[0m\n\u001b[0m\u001b[1;32m   1315\u001b[0m \u001b[0;34m\u001b[0m\u001b[0m\n\u001b[1;32m   1316\u001b[0m         if needs_i8_conversion(ax.dtype) or isinstance(\n",
      "\u001b[0;32m~/anaconda3/envs/tick/lib/python3.7/site-packages/pandas/core/indexing.py\u001b[0m in \u001b[0;36m_validate_read_indexer\u001b[0;34m(self, key, indexer, axis)\u001b[0m\n\u001b[1;32m   1372\u001b[0m                 \u001b[0;32mif\u001b[0m \u001b[0muse_interval_msg\u001b[0m\u001b[0;34m:\u001b[0m\u001b[0;34m\u001b[0m\u001b[0;34m\u001b[0m\u001b[0m\n\u001b[1;32m   1373\u001b[0m                     \u001b[0mkey\u001b[0m \u001b[0;34m=\u001b[0m \u001b[0mlist\u001b[0m\u001b[0;34m(\u001b[0m\u001b[0mkey\u001b[0m\u001b[0;34m)\u001b[0m\u001b[0;34m\u001b[0m\u001b[0;34m\u001b[0m\u001b[0m\n\u001b[0;32m-> 1374\u001b[0;31m                 \u001b[0;32mraise\u001b[0m \u001b[0mKeyError\u001b[0m\u001b[0;34m(\u001b[0m\u001b[0;34mf\"None of [{key}] are in the [{axis_name}]\"\u001b[0m\u001b[0;34m)\u001b[0m\u001b[0;34m\u001b[0m\u001b[0;34m\u001b[0m\u001b[0m\n\u001b[0m\u001b[1;32m   1375\u001b[0m \u001b[0;34m\u001b[0m\u001b[0m\n\u001b[1;32m   1376\u001b[0m             \u001b[0mnot_found\u001b[0m \u001b[0;34m=\u001b[0m \u001b[0mlist\u001b[0m\u001b[0;34m(\u001b[0m\u001b[0mensure_index\u001b[0m\u001b[0;34m(\u001b[0m\u001b[0mkey\u001b[0m\u001b[0;34m)\u001b[0m\u001b[0;34m[\u001b[0m\u001b[0mmissing_mask\u001b[0m\u001b[0;34m.\u001b[0m\u001b[0mnonzero\u001b[0m\u001b[0;34m(\u001b[0m\u001b[0;34m)\u001b[0m\u001b[0;34m[\u001b[0m\u001b[0;36m0\u001b[0m\u001b[0;34m]\u001b[0m\u001b[0;34m]\u001b[0m\u001b[0;34m.\u001b[0m\u001b[0munique\u001b[0m\u001b[0;34m(\u001b[0m\u001b[0;34m)\u001b[0m\u001b[0;34m)\u001b[0m\u001b[0;34m\u001b[0m\u001b[0;34m\u001b[0m\u001b[0m\n",
      "\u001b[0;31mKeyError\u001b[0m: \"None of [MultiIndex([( 15, 240),\\n            (695, 542),\\n            (542, 695),\\n            (  6, 531),\\n            (  5, 287),\\n            (201, 695),\\n            (153, 134),\\n            (  6, 602),\\n            (602,   6),\\n            (153, 164),\\n            ...\\n            (256, 322),\\n            (256, 681),\\n            (257, 541),\\n            (256, 715),\\n            (257,  50),\\n            (257, 164),\\n            (257, 186),\\n            (257, 293),\\n            (257, 359),\\n            (746, 733)],\\n           names=['i', 'j'], length=15345)] are in the [columns]\""
     ]
    }
   ],
   "source": [
    "shrunk_df[small_interactions]"
   ]
  },
  {
   "cell_type": "code",
   "execution_count": null,
   "metadata": {},
   "outputs": [],
   "source": []
  },
  {
   "cell_type": "code",
   "execution_count": 92,
   "metadata": {},
   "outputs": [],
   "source": [
    "## divide up time into components so less memory needed\n",
    "\n",
    "time_interval = shrunk_df[\"normalised_time\"].max()/100"
   ]
  },
  {
   "cell_type": "code",
   "execution_count": 96,
   "metadata": {},
   "outputs": [
    {
     "name": "stdout",
     "output_type": "stream",
     "text": [
      "0.0\n",
      "169052.33333333334\n",
      "338104.6666666667\n",
      "507157.0\n",
      "676209.3333333334\n",
      "845261.6666666667\n",
      "1014314.0\n",
      "1183366.3333333335\n",
      "1352418.6666666667\n",
      "1521471.0\n",
      "1690523.3333333335\n",
      "1859575.6666666667\n",
      "2028628.0\n",
      "2197680.3333333335\n",
      "2366732.666666667\n",
      "2535785.0\n",
      "2704837.3333333335\n",
      "2873889.666666667\n",
      "3042942.0\n",
      "3211994.3333333335\n",
      "3381046.666666667\n",
      "3550099.0\n",
      "3719151.3333333335\n",
      "3888203.666666667\n",
      "4057256.0\n",
      "4226308.333333334\n",
      "4395360.666666667\n",
      "4564413.0\n",
      "4733465.333333334\n",
      "4902517.666666667\n",
      "5071570.0\n",
      "5240622.333333334\n",
      "5409674.666666667\n",
      "5578727.0\n",
      "5747779.333333334\n",
      "5916831.666666667\n",
      "6085884.0\n",
      "6254936.333333334\n",
      "6423988.666666667\n",
      "6593041.0\n",
      "6762093.333333334\n",
      "6931145.666666667\n",
      "7100198.0\n",
      "7269250.333333334\n",
      "7438302.666666667\n",
      "7607355.0\n",
      "7776407.333333334\n",
      "7945459.666666667\n",
      "8114512.0\n",
      "8283564.333333334\n",
      "8452616.666666668\n",
      "8621669.0\n",
      "8790721.333333334\n",
      "8959773.666666668\n",
      "9128826.0\n",
      "9297878.333333334\n",
      "9466930.666666668\n",
      "9635983.0\n",
      "9805035.333333334\n",
      "9974087.666666668\n",
      "10143140.0\n",
      "10312192.333333334\n",
      "10481244.666666668\n",
      "10650297.0\n",
      "10819349.333333334\n",
      "10988401.666666668\n",
      "11157454.0\n",
      "11326506.333333334\n",
      "11495558.666666668\n",
      "11664611.0\n",
      "11833663.333333334\n",
      "12002715.666666668\n",
      "12171768.0\n",
      "12340820.333333334\n",
      "12509872.666666668\n",
      "12678925.0\n",
      "12847977.333333334\n",
      "13017029.666666668\n",
      "13186082.0\n",
      "13355134.333333334\n",
      "13524186.666666668\n",
      "13693239.0\n",
      "13862291.333333334\n",
      "14031343.666666668\n",
      "14200396.0\n",
      "14369448.333333334\n",
      "14538500.666666668\n",
      "14707553.0\n",
      "14876605.333333334\n",
      "15045657.666666668\n",
      "15214710.0\n",
      "15383762.333333334\n",
      "15552814.666666668\n",
      "15721867.0\n",
      "15890919.333333334\n",
      "16059971.666666668\n",
      "16229024.0\n",
      "16398076.333333334\n",
      "16567128.666666668\n",
      "16736181.0\n"
     ]
    }
   ],
   "source": [
    "for i in np.linspace(0, shrunk_df[\"normalised_time\"].max(), 100):\n",
    "    print(i)"
   ]
  },
  {
   "cell_type": "code",
   "execution_count": 100,
   "metadata": {},
   "outputs": [
    {
     "data": {
      "text/html": [
       "<div>\n",
       "<style scoped>\n",
       "    .dataframe tbody tr th:only-of-type {\n",
       "        vertical-align: middle;\n",
       "    }\n",
       "\n",
       "    .dataframe tbody tr th {\n",
       "        vertical-align: top;\n",
       "    }\n",
       "\n",
       "    .dataframe thead th {\n",
       "        text-align: right;\n",
       "    }\n",
       "</style>\n",
       "<table border=\"1\" class=\"dataframe\">\n",
       "  <thead>\n",
       "    <tr style=\"text-align: right;\">\n",
       "      <th></th>\n",
       "      <th>i</th>\n",
       "      <th>j</th>\n",
       "      <th>time</th>\n",
       "      <th>normalised_time</th>\n",
       "      <th>time_gap</th>\n",
       "    </tr>\n",
       "  </thead>\n",
       "  <tbody>\n",
       "  </tbody>\n",
       "</table>\n",
       "</div>"
      ],
      "text/plain": [
       "Empty DataFrame\n",
       "Columns: [i, j, time, normalised_time, time_gap]\n",
       "Index: []"
      ]
     },
     "execution_count": 100,
     "metadata": {},
     "output_type": "execute_result"
    }
   ],
   "source": [
    "shrunk_df[(shrunk_df[\"j\"] == 0) & (shrunk_df[\"i\"] == 1)]"
   ]
  },
  {
   "cell_type": "code",
   "execution_count": null,
   "metadata": {},
   "outputs": [],
   "source": []
  }
 ],
 "metadata": {
  "kernelspec": {
   "display_name": "tick",
   "language": "python",
   "name": "python3"
  },
  "language_info": {
   "codemirror_mode": {
    "name": "ipython",
    "version": 3
   },
   "file_extension": ".py",
   "mimetype": "text/x-python",
   "name": "python",
   "nbconvert_exporter": "python",
   "pygments_lexer": "ipython3",
   "version": "3.7.12"
  }
 },
 "nbformat": 4,
 "nbformat_minor": 2
}
